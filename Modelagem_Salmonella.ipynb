{
  "nbformat": 4,
  "nbformat_minor": 0,
  "metadata": {
    "colab": {
      "provenance": [],
      "toc_visible": true,
      "include_colab_link": true
    },
    "kernelspec": {
      "name": "python3",
      "display_name": "Python 3"
    },
    "language_info": {
      "name": "python"
    },
    "widgets": {
      "application/vnd.jupyter.widget-state+json": {
        "5fbcf70c29ec44ae865bf0016b6491cc": {
          "model_module": "@jupyter-widgets/controls",
          "model_name": "HBoxModel",
          "model_module_version": "1.5.0",
          "state": {
            "_dom_classes": [],
            "_model_module": "@jupyter-widgets/controls",
            "_model_module_version": "1.5.0",
            "_model_name": "HBoxModel",
            "_view_count": null,
            "_view_module": "@jupyter-widgets/controls",
            "_view_module_version": "1.5.0",
            "_view_name": "HBoxView",
            "box_style": "",
            "children": [
              "IPY_MODEL_0fd2e61dd72048b8990c0af32716d53d",
              "IPY_MODEL_8459c1d5398f47b4920040407404d3f3",
              "IPY_MODEL_4f430816cee54f0ca7da1ee22ebd1c2b"
            ],
            "layout": "IPY_MODEL_7a5360689e9f4a8b9136f7047601647d"
          }
        },
        "0fd2e61dd72048b8990c0af32716d53d": {
          "model_module": "@jupyter-widgets/controls",
          "model_name": "HTMLModel",
          "model_module_version": "1.5.0",
          "state": {
            "_dom_classes": [],
            "_model_module": "@jupyter-widgets/controls",
            "_model_module_version": "1.5.0",
            "_model_name": "HTMLModel",
            "_view_count": null,
            "_view_module": "@jupyter-widgets/controls",
            "_view_module_version": "1.5.0",
            "_view_name": "HTMLView",
            "description": "",
            "description_tooltip": null,
            "layout": "IPY_MODEL_a6ae9b2693a5439191b03c0f8a295bde",
            "placeholder": "​",
            "style": "IPY_MODEL_b4ca3836e6e94cfc90b0aa1a09e5720c",
            "value": "100%"
          }
        },
        "8459c1d5398f47b4920040407404d3f3": {
          "model_module": "@jupyter-widgets/controls",
          "model_name": "FloatProgressModel",
          "model_module_version": "1.5.0",
          "state": {
            "_dom_classes": [],
            "_model_module": "@jupyter-widgets/controls",
            "_model_module_version": "1.5.0",
            "_model_name": "FloatProgressModel",
            "_view_count": null,
            "_view_module": "@jupyter-widgets/controls",
            "_view_module_version": "1.5.0",
            "_view_name": "ProgressView",
            "bar_style": "success",
            "description": "",
            "description_tooltip": null,
            "layout": "IPY_MODEL_0c1ea52912554a1083bac1e5d5d6b80d",
            "max": 32,
            "min": 0,
            "orientation": "horizontal",
            "style": "IPY_MODEL_cff16ff5e0bd4011927d4f354dba26f2",
            "value": 32
          }
        },
        "4f430816cee54f0ca7da1ee22ebd1c2b": {
          "model_module": "@jupyter-widgets/controls",
          "model_name": "HTMLModel",
          "model_module_version": "1.5.0",
          "state": {
            "_dom_classes": [],
            "_model_module": "@jupyter-widgets/controls",
            "_model_module_version": "1.5.0",
            "_model_name": "HTMLModel",
            "_view_count": null,
            "_view_module": "@jupyter-widgets/controls",
            "_view_module_version": "1.5.0",
            "_view_name": "HTMLView",
            "description": "",
            "description_tooltip": null,
            "layout": "IPY_MODEL_9ebfabb838274f309038b7c2eec72529",
            "placeholder": "​",
            "style": "IPY_MODEL_63d901c470694b679d61724997b665b9",
            "value": " 32/32 [00:03&lt;00:00,  9.94it/s]"
          }
        },
        "7a5360689e9f4a8b9136f7047601647d": {
          "model_module": "@jupyter-widgets/base",
          "model_name": "LayoutModel",
          "model_module_version": "1.2.0",
          "state": {
            "_model_module": "@jupyter-widgets/base",
            "_model_module_version": "1.2.0",
            "_model_name": "LayoutModel",
            "_view_count": null,
            "_view_module": "@jupyter-widgets/base",
            "_view_module_version": "1.2.0",
            "_view_name": "LayoutView",
            "align_content": null,
            "align_items": null,
            "align_self": null,
            "border": null,
            "bottom": null,
            "display": null,
            "flex": null,
            "flex_flow": null,
            "grid_area": null,
            "grid_auto_columns": null,
            "grid_auto_flow": null,
            "grid_auto_rows": null,
            "grid_column": null,
            "grid_gap": null,
            "grid_row": null,
            "grid_template_areas": null,
            "grid_template_columns": null,
            "grid_template_rows": null,
            "height": null,
            "justify_content": null,
            "justify_items": null,
            "left": null,
            "margin": null,
            "max_height": null,
            "max_width": null,
            "min_height": null,
            "min_width": null,
            "object_fit": null,
            "object_position": null,
            "order": null,
            "overflow": null,
            "overflow_x": null,
            "overflow_y": null,
            "padding": null,
            "right": null,
            "top": null,
            "visibility": null,
            "width": null
          }
        },
        "a6ae9b2693a5439191b03c0f8a295bde": {
          "model_module": "@jupyter-widgets/base",
          "model_name": "LayoutModel",
          "model_module_version": "1.2.0",
          "state": {
            "_model_module": "@jupyter-widgets/base",
            "_model_module_version": "1.2.0",
            "_model_name": "LayoutModel",
            "_view_count": null,
            "_view_module": "@jupyter-widgets/base",
            "_view_module_version": "1.2.0",
            "_view_name": "LayoutView",
            "align_content": null,
            "align_items": null,
            "align_self": null,
            "border": null,
            "bottom": null,
            "display": null,
            "flex": null,
            "flex_flow": null,
            "grid_area": null,
            "grid_auto_columns": null,
            "grid_auto_flow": null,
            "grid_auto_rows": null,
            "grid_column": null,
            "grid_gap": null,
            "grid_row": null,
            "grid_template_areas": null,
            "grid_template_columns": null,
            "grid_template_rows": null,
            "height": null,
            "justify_content": null,
            "justify_items": null,
            "left": null,
            "margin": null,
            "max_height": null,
            "max_width": null,
            "min_height": null,
            "min_width": null,
            "object_fit": null,
            "object_position": null,
            "order": null,
            "overflow": null,
            "overflow_x": null,
            "overflow_y": null,
            "padding": null,
            "right": null,
            "top": null,
            "visibility": null,
            "width": null
          }
        },
        "b4ca3836e6e94cfc90b0aa1a09e5720c": {
          "model_module": "@jupyter-widgets/controls",
          "model_name": "DescriptionStyleModel",
          "model_module_version": "1.5.0",
          "state": {
            "_model_module": "@jupyter-widgets/controls",
            "_model_module_version": "1.5.0",
            "_model_name": "DescriptionStyleModel",
            "_view_count": null,
            "_view_module": "@jupyter-widgets/base",
            "_view_module_version": "1.2.0",
            "_view_name": "StyleView",
            "description_width": ""
          }
        },
        "0c1ea52912554a1083bac1e5d5d6b80d": {
          "model_module": "@jupyter-widgets/base",
          "model_name": "LayoutModel",
          "model_module_version": "1.2.0",
          "state": {
            "_model_module": "@jupyter-widgets/base",
            "_model_module_version": "1.2.0",
            "_model_name": "LayoutModel",
            "_view_count": null,
            "_view_module": "@jupyter-widgets/base",
            "_view_module_version": "1.2.0",
            "_view_name": "LayoutView",
            "align_content": null,
            "align_items": null,
            "align_self": null,
            "border": null,
            "bottom": null,
            "display": null,
            "flex": null,
            "flex_flow": null,
            "grid_area": null,
            "grid_auto_columns": null,
            "grid_auto_flow": null,
            "grid_auto_rows": null,
            "grid_column": null,
            "grid_gap": null,
            "grid_row": null,
            "grid_template_areas": null,
            "grid_template_columns": null,
            "grid_template_rows": null,
            "height": null,
            "justify_content": null,
            "justify_items": null,
            "left": null,
            "margin": null,
            "max_height": null,
            "max_width": null,
            "min_height": null,
            "min_width": null,
            "object_fit": null,
            "object_position": null,
            "order": null,
            "overflow": null,
            "overflow_x": null,
            "overflow_y": null,
            "padding": null,
            "right": null,
            "top": null,
            "visibility": null,
            "width": null
          }
        },
        "cff16ff5e0bd4011927d4f354dba26f2": {
          "model_module": "@jupyter-widgets/controls",
          "model_name": "ProgressStyleModel",
          "model_module_version": "1.5.0",
          "state": {
            "_model_module": "@jupyter-widgets/controls",
            "_model_module_version": "1.5.0",
            "_model_name": "ProgressStyleModel",
            "_view_count": null,
            "_view_module": "@jupyter-widgets/base",
            "_view_module_version": "1.2.0",
            "_view_name": "StyleView",
            "bar_color": null,
            "description_width": ""
          }
        },
        "9ebfabb838274f309038b7c2eec72529": {
          "model_module": "@jupyter-widgets/base",
          "model_name": "LayoutModel",
          "model_module_version": "1.2.0",
          "state": {
            "_model_module": "@jupyter-widgets/base",
            "_model_module_version": "1.2.0",
            "_model_name": "LayoutModel",
            "_view_count": null,
            "_view_module": "@jupyter-widgets/base",
            "_view_module_version": "1.2.0",
            "_view_name": "LayoutView",
            "align_content": null,
            "align_items": null,
            "align_self": null,
            "border": null,
            "bottom": null,
            "display": null,
            "flex": null,
            "flex_flow": null,
            "grid_area": null,
            "grid_auto_columns": null,
            "grid_auto_flow": null,
            "grid_auto_rows": null,
            "grid_column": null,
            "grid_gap": null,
            "grid_row": null,
            "grid_template_areas": null,
            "grid_template_columns": null,
            "grid_template_rows": null,
            "height": null,
            "justify_content": null,
            "justify_items": null,
            "left": null,
            "margin": null,
            "max_height": null,
            "max_width": null,
            "min_height": null,
            "min_width": null,
            "object_fit": null,
            "object_position": null,
            "order": null,
            "overflow": null,
            "overflow_x": null,
            "overflow_y": null,
            "padding": null,
            "right": null,
            "top": null,
            "visibility": null,
            "width": null
          }
        },
        "63d901c470694b679d61724997b665b9": {
          "model_module": "@jupyter-widgets/controls",
          "model_name": "DescriptionStyleModel",
          "model_module_version": "1.5.0",
          "state": {
            "_model_module": "@jupyter-widgets/controls",
            "_model_module_version": "1.5.0",
            "_model_name": "DescriptionStyleModel",
            "_view_count": null,
            "_view_module": "@jupyter-widgets/base",
            "_view_module_version": "1.2.0",
            "_view_name": "StyleView",
            "description_width": ""
          }
        }
      }
    }
  },
  "cells": [
    {
      "cell_type": "markdown",
      "metadata": {
        "id": "view-in-github",
        "colab_type": "text"
      },
      "source": [
        "<a href=\"https://colab.research.google.com/github/lumimevi/Machine-Learning-Python/blob/master/Modelagem_Salmonella.ipynb\" target=\"_parent\"><img src=\"https://colab.research.google.com/assets/colab-badge.svg\" alt=\"Open In Colab\"/></a>"
      ]
    },
    {
      "cell_type": "markdown",
      "source": [
        "# **INICIO**\n",
        "\n",
        "A planilha de dados contém diversos índices ambientais (como NDVI, MNDWI, SAVI etc.), coordenadas geográficas, data de coleta e a coluna \"Salmonella\", que indica \"Ausência\" ou \"Presença\" da bactéria.\n",
        "\n",
        "Vamos aplicar uma técnica de machine learning para prever a presença ou ausência de Salmonella com base nesses índices ambientais. A abordagem será:"
      ],
      "metadata": {
        "id": "6z07qpt-5i2m"
      }
    },
    {
      "cell_type": "code",
      "execution_count": null,
      "metadata": {
        "colab": {
          "base_uri": "https://localhost:8080/"
        },
        "id": "Z_rR0RmJdNo-",
        "outputId": "e2d1b1ad-cd51-4e45-ae89-a2e913b660a8"
      },
      "outputs": [
        {
          "output_type": "stream",
          "name": "stdout",
          "text": [
            "Drive already mounted at /content/drive/; to attempt to forcibly remount, call drive.mount(\"/content/drive/\", force_remount=True).\n"
          ]
        }
      ],
      "source": [
        "#Importações\n",
        "import pandas as pd\n",
        "from google.colab import drive\n",
        "drive.mount('/content/drive/')"
      ]
    },
    {
      "cell_type": "code",
      "source": [
        "# Bibliotecas necessárias\n",
        "import pandas as pd\n",
        "import numpy as np\n",
        "from sklearn.model_selection import train_test_split\n",
        "from sklearn.preprocessing import StandardScaler\n",
        "from sklearn.metrics import classification_report, confusion_matrix\n",
        "from imblearn.combine import SMOTETomek\n",
        "import matplotlib.pyplot as plt\n",
        "import seaborn as sns"
      ],
      "metadata": {
        "id": "Gqahtwj8I7aG"
      },
      "execution_count": null,
      "outputs": []
    },
    {
      "cell_type": "code",
      "source": [
        "from google.colab import drive\n",
        "drive.mount('/content/drive')\n",
        "# Carregar o dataset\n",
        "df=pd.read_excel('/content/drive/MyDrive/dados_chile/coletas_indices_agua.xlsx', sheet_name=0)\n",
        "print(df['Salmonella'].value_counts())\n",
        "print(df.head())"
      ],
      "metadata": {
        "id": "pMdZWflolCD4",
        "colab": {
          "base_uri": "https://localhost:8080/"
        },
        "outputId": "0eac4e65-16bd-4af9-a849-a6ff58638dfb"
      },
      "execution_count": null,
      "outputs": [
        {
          "output_type": "stream",
          "name": "stdout",
          "text": [
            "Drive already mounted at /content/drive; to attempt to forcibly remount, call drive.mount(\"/content/drive\", force_remount=True).\n",
            "Salmonella\n",
            "Ausencia    1147\n",
            "Presenca     704\n",
            "Name: count, dtype: int64\n",
            "     AWEI   EVI   GCI  GNDVI  LSWI  MNDWI  NDBI  NDTI  NDWI  SAVI Salmonella  \\\n",
            "0 -189.25  0.12  0.14   0.05 -0.03  -0.08  0.03  0.08 -0.05  0.06   Ausencia   \n",
            "1    -333  0.00  0.11   0.06 -0.06  -0.12  0.06  0.12 -0.06  0.00   Ausencia   \n",
            "2   -3940  1.45  0.15   0.52  0.05  -0.49 -0.05  0.49 -0.52  0.79   Ausencia   \n",
            "3    4489 -0.19 -0.03   0.02  0.09   0.07 -0.09 -0.07 -0.02  0.07   Ausencia   \n",
            "4   -1727  0.47  0.14   0.26 -0.03  -0.28  0.03  0.28 -0.26  0.27   Ausencia   \n",
            "\n",
            "     lat   long month  year    Estacao  \n",
            "0 -33.80 -70.88   Dec  2019  Primavera  \n",
            "1 -33.80 -70.88   Nov  2019  Primavera  \n",
            "2 -33.79 -70.89   Nov  2019  Primavera  \n",
            "3 -33.78 -70.80   Abr  2019     Outono  \n",
            "4 -33.78 -70.80   Jul  2019    Inverno  \n"
          ]
        }
      ]
    },
    {
      "cell_type": "code",
      "source": [
        "# Transformando a variável alvo em numérica\n",
        "df['Salmonella'] = df['Salmonella'].map({'Presenca': 1, 'Ausencia': 0})\n",
        "print(df.head())"
      ],
      "metadata": {
        "colab": {
          "base_uri": "https://localhost:8080/"
        },
        "id": "OVjWw1I9IqsL",
        "outputId": "ead6cadc-ee8d-4a4d-9ec3-b3554375c345"
      },
      "execution_count": null,
      "outputs": [
        {
          "output_type": "stream",
          "name": "stdout",
          "text": [
            "     AWEI   EVI   GCI  GNDVI  LSWI  MNDWI  NDBI  NDTI  NDWI  SAVI  Salmonella  \\\n",
            "0 -189.25  0.12  0.14   0.05 -0.03  -0.08  0.03  0.08 -0.05  0.06           0   \n",
            "1    -333  0.00  0.11   0.06 -0.06  -0.12  0.06  0.12 -0.06  0.00           0   \n",
            "2   -3940  1.45  0.15   0.52  0.05  -0.49 -0.05  0.49 -0.52  0.79           0   \n",
            "3    4489 -0.19 -0.03   0.02  0.09   0.07 -0.09 -0.07 -0.02  0.07           0   \n",
            "4   -1727  0.47  0.14   0.26 -0.03  -0.28  0.03  0.28 -0.26  0.27           0   \n",
            "\n",
            "     lat   long month  year    Estacao  \n",
            "0 -33.80 -70.88   Dec  2019  Primavera  \n",
            "1 -33.80 -70.88   Nov  2019  Primavera  \n",
            "2 -33.79 -70.89   Nov  2019  Primavera  \n",
            "3 -33.78 -70.80   Abr  2019     Outono  \n",
            "4 -33.78 -70.80   Jul  2019    Inverno  \n"
          ]
        }
      ]
    },
    {
      "cell_type": "code",
      "source": [
        "# Remover colunas irrelevante\n",
        "df = df.dropna()  # remover valores nulos\n",
        "df = df.iloc[:, :-5]  #Remover colunas irrelevante\n",
        "print(df.head())"
      ],
      "metadata": {
        "id": "mfAgQqxyG8vb",
        "colab": {
          "base_uri": "https://localhost:8080/"
        },
        "outputId": "72cb28d4-6084-41e2-c61f-5a417db0b88c"
      },
      "execution_count": null,
      "outputs": [
        {
          "output_type": "stream",
          "name": "stdout",
          "text": [
            "     AWEI   EVI   GCI  GNDVI  LSWI  MNDWI  NDBI  NDTI  NDWI  SAVI  Salmonella\n",
            "0 -189.25  0.12  0.14   0.05 -0.03  -0.08  0.03  0.08 -0.05  0.06           0\n",
            "1    -333  0.00  0.11   0.06 -0.06  -0.12  0.06  0.12 -0.06  0.00           0\n",
            "2   -3940  1.45  0.15   0.52  0.05  -0.49 -0.05  0.49 -0.52  0.79           0\n",
            "3    4489 -0.19 -0.03   0.02  0.09   0.07 -0.09 -0.07 -0.02  0.07           0\n",
            "4   -1727  0.47  0.14   0.26 -0.03  -0.28  0.03  0.28 -0.26  0.27           0\n"
          ]
        }
      ]
    },
    {
      "cell_type": "code",
      "source": [
        "# Separando features e target\n",
        "X = df.drop(\"Salmonella\", axis=1)\n",
        "y = df[\"Salmonella\"]"
      ],
      "metadata": {
        "id": "0lPkMbziHFSn"
      },
      "execution_count": null,
      "outputs": []
    },
    {
      "cell_type": "code",
      "source": [
        "# Padronizando os dados\n",
        "numeric_cols = X.select_dtypes(include=np.number).columns\n",
        "scaler = StandardScaler()\n",
        "X_scaled = scaler.fit_transform(X[numeric_cols])"
      ],
      "metadata": {
        "id": "Zn_m4-1OHIw3"
      },
      "execution_count": null,
      "outputs": []
    },
    {
      "cell_type": "code",
      "source": [
        "# Divisão de treino/teste\n",
        "X_train, X_test, y_train, y_test = train_test_split(X_scaled, y, test_size=0.2, random_state=42, stratify=y)\n"
      ],
      "metadata": {
        "id": "wQXYMjRJMZRt"
      },
      "execution_count": null,
      "outputs": []
    },
    {
      "cell_type": "markdown",
      "source": [
        "Equilibramos os dados usando a técnica SMOTETomek, é uma técnica de balanceamento de dados que combina duas abordagens: SMOTE (Synthetic Minority Over-sampling Technique):\n",
        "\n",
        "Com o objetivo de aumentar a quantidade de amostras da classe minoritária (a classe com menos dados).\n",
        " Isso ajuda a equilibrar a distribuição das classes."
      ],
      "metadata": {
        "id": "4hSZBNnROblo"
      }
    },
    {
      "cell_type": "code",
      "source": [
        "# Balanceamento com SMOTETomek (Oversampling + Undersampling)\n",
        "smt = SMOTETomek(random_state=42)\n",
        "X_resampled, y_resampled = smt.fit_resample(X_train, y_train)"
      ],
      "metadata": {
        "id": "fd1ba8ujMefI"
      },
      "execution_count": null,
      "outputs": []
    },
    {
      "cell_type": "code",
      "source": [
        "# Verificando novo balanceamento\n",
        "print(\"Distribuição após balanceamento:\")\n",
        "print(pd.Series(y_resampled).value_counts())\n"
      ],
      "metadata": {
        "colab": {
          "base_uri": "https://localhost:8080/"
        },
        "id": "1WTgpX1QMikP",
        "outputId": "70a546d4-1c09-4ff1-c22f-08b3e475d9d8"
      },
      "execution_count": null,
      "outputs": [
        {
          "output_type": "stream",
          "name": "stdout",
          "text": [
            "Distribuição após balanceamento:\n",
            "Salmonella\n",
            "1    807\n",
            "0    807\n",
            "Name: count, dtype: int64\n"
          ]
        }
      ]
    },
    {
      "cell_type": "markdown",
      "source": [
        "Usamos LazyPredict para rapidamente avaliar vários classificadores.\n",
        "O Lazy Predict ajuda a criar muitos modelos básicos sem muito código e ajuda a entender quais modelos funcionam melhor sem nenhum ajuste de parâmetro."
      ],
      "metadata": {
        "id": "jEY8B7dCOUZ3"
      }
    },
    {
      "cell_type": "code",
      "source": [
        "#  Modelagem com LazyPredict\n",
        "!pip install lazypredict\n",
        "from lazypredict.Supervised import LazyClassifier\n",
        "clf = LazyClassifier(verbose=0, ignore_warnings=True, custom_metric=None)\n",
        "models, predictions = clf.fit(X_resampled, X_test, y_resampled, y_test)\n",
        "# Resultados dos modelos\n",
        "print(models)"
      ],
      "metadata": {
        "colab": {
          "base_uri": "https://localhost:8080/",
          "height": 1000,
          "referenced_widgets": [
            "5fbcf70c29ec44ae865bf0016b6491cc",
            "0fd2e61dd72048b8990c0af32716d53d",
            "8459c1d5398f47b4920040407404d3f3",
            "4f430816cee54f0ca7da1ee22ebd1c2b",
            "7a5360689e9f4a8b9136f7047601647d",
            "a6ae9b2693a5439191b03c0f8a295bde",
            "b4ca3836e6e94cfc90b0aa1a09e5720c",
            "0c1ea52912554a1083bac1e5d5d6b80d",
            "cff16ff5e0bd4011927d4f354dba26f2",
            "9ebfabb838274f309038b7c2eec72529",
            "63d901c470694b679d61724997b665b9"
          ]
        },
        "id": "0bLl9EUpMoOa",
        "outputId": "84b6bd92-8787-49e4-fd81-6d5df9c998bd"
      },
      "execution_count": null,
      "outputs": [
        {
          "output_type": "stream",
          "name": "stdout",
          "text": [
            "Requirement already satisfied: lazypredict in /usr/local/lib/python3.11/dist-packages (0.2.16)\n",
            "Requirement already satisfied: click in /usr/local/lib/python3.11/dist-packages (from lazypredict) (8.1.8)\n",
            "Requirement already satisfied: scikit-learn in /usr/local/lib/python3.11/dist-packages (from lazypredict) (1.6.1)\n",
            "Requirement already satisfied: pandas in /usr/local/lib/python3.11/dist-packages (from lazypredict) (2.2.2)\n",
            "Requirement already satisfied: tqdm in /usr/local/lib/python3.11/dist-packages (from lazypredict) (4.67.1)\n",
            "Requirement already satisfied: joblib in /usr/local/lib/python3.11/dist-packages (from lazypredict) (1.4.2)\n",
            "Requirement already satisfied: lightgbm in /usr/local/lib/python3.11/dist-packages (from lazypredict) (4.5.0)\n",
            "Requirement already satisfied: xgboost in /usr/local/lib/python3.11/dist-packages (from lazypredict) (2.1.4)\n",
            "Requirement already satisfied: pytest-runner in /usr/local/lib/python3.11/dist-packages (from lazypredict) (6.0.1)\n",
            "Requirement already satisfied: mlflow>=2.0.0 in /usr/local/lib/python3.11/dist-packages (from lazypredict) (2.22.0)\n",
            "Requirement already satisfied: mlflow-skinny==2.22.0 in /usr/local/lib/python3.11/dist-packages (from mlflow>=2.0.0->lazypredict) (2.22.0)\n",
            "Requirement already satisfied: Flask<4 in /usr/local/lib/python3.11/dist-packages (from mlflow>=2.0.0->lazypredict) (3.1.0)\n",
            "Requirement already satisfied: Jinja2<4,>=2.11 in /usr/local/lib/python3.11/dist-packages (from mlflow>=2.0.0->lazypredict) (3.1.6)\n",
            "Requirement already satisfied: alembic!=1.10.0,<2 in /usr/local/lib/python3.11/dist-packages (from mlflow>=2.0.0->lazypredict) (1.15.2)\n",
            "Requirement already satisfied: docker<8,>=4.0.0 in /usr/local/lib/python3.11/dist-packages (from mlflow>=2.0.0->lazypredict) (7.1.0)\n",
            "Requirement already satisfied: graphene<4 in /usr/local/lib/python3.11/dist-packages (from mlflow>=2.0.0->lazypredict) (3.4.3)\n",
            "Requirement already satisfied: gunicorn<24 in /usr/local/lib/python3.11/dist-packages (from mlflow>=2.0.0->lazypredict) (23.0.0)\n",
            "Requirement already satisfied: markdown<4,>=3.3 in /usr/local/lib/python3.11/dist-packages (from mlflow>=2.0.0->lazypredict) (3.8)\n",
            "Requirement already satisfied: matplotlib<4 in /usr/local/lib/python3.11/dist-packages (from mlflow>=2.0.0->lazypredict) (3.10.0)\n",
            "Requirement already satisfied: numpy<3 in /usr/local/lib/python3.11/dist-packages (from mlflow>=2.0.0->lazypredict) (2.0.2)\n",
            "Requirement already satisfied: pyarrow<20,>=4.0.0 in /usr/local/lib/python3.11/dist-packages (from mlflow>=2.0.0->lazypredict) (18.1.0)\n",
            "Requirement already satisfied: scipy<2 in /usr/local/lib/python3.11/dist-packages (from mlflow>=2.0.0->lazypredict) (1.15.2)\n",
            "Requirement already satisfied: sqlalchemy<3,>=1.4.0 in /usr/local/lib/python3.11/dist-packages (from mlflow>=2.0.0->lazypredict) (2.0.40)\n",
            "Requirement already satisfied: cachetools<6,>=5.0.0 in /usr/local/lib/python3.11/dist-packages (from mlflow-skinny==2.22.0->mlflow>=2.0.0->lazypredict) (5.5.2)\n",
            "Requirement already satisfied: cloudpickle<4 in /usr/local/lib/python3.11/dist-packages (from mlflow-skinny==2.22.0->mlflow>=2.0.0->lazypredict) (3.1.1)\n",
            "Requirement already satisfied: databricks-sdk<1,>=0.20.0 in /usr/local/lib/python3.11/dist-packages (from mlflow-skinny==2.22.0->mlflow>=2.0.0->lazypredict) (0.52.0)\n",
            "Requirement already satisfied: fastapi<1 in /usr/local/lib/python3.11/dist-packages (from mlflow-skinny==2.22.0->mlflow>=2.0.0->lazypredict) (0.115.12)\n",
            "Requirement already satisfied: gitpython<4,>=3.1.9 in /usr/local/lib/python3.11/dist-packages (from mlflow-skinny==2.22.0->mlflow>=2.0.0->lazypredict) (3.1.44)\n",
            "Requirement already satisfied: importlib_metadata!=4.7.0,<9,>=3.7.0 in /usr/local/lib/python3.11/dist-packages (from mlflow-skinny==2.22.0->mlflow>=2.0.0->lazypredict) (8.7.0)\n",
            "Requirement already satisfied: opentelemetry-api<3,>=1.9.0 in /usr/local/lib/python3.11/dist-packages (from mlflow-skinny==2.22.0->mlflow>=2.0.0->lazypredict) (1.16.0)\n",
            "Requirement already satisfied: opentelemetry-sdk<3,>=1.9.0 in /usr/local/lib/python3.11/dist-packages (from mlflow-skinny==2.22.0->mlflow>=2.0.0->lazypredict) (1.16.0)\n",
            "Requirement already satisfied: packaging<25 in /usr/local/lib/python3.11/dist-packages (from mlflow-skinny==2.22.0->mlflow>=2.0.0->lazypredict) (24.2)\n",
            "Requirement already satisfied: protobuf<7,>=3.12.0 in /usr/local/lib/python3.11/dist-packages (from mlflow-skinny==2.22.0->mlflow>=2.0.0->lazypredict) (5.29.4)\n",
            "Requirement already satisfied: pydantic<3,>=1.10.8 in /usr/local/lib/python3.11/dist-packages (from mlflow-skinny==2.22.0->mlflow>=2.0.0->lazypredict) (2.11.4)\n",
            "Requirement already satisfied: pyyaml<7,>=5.1 in /usr/local/lib/python3.11/dist-packages (from mlflow-skinny==2.22.0->mlflow>=2.0.0->lazypredict) (6.0.2)\n",
            "Requirement already satisfied: requests<3,>=2.17.3 in /usr/local/lib/python3.11/dist-packages (from mlflow-skinny==2.22.0->mlflow>=2.0.0->lazypredict) (2.32.3)\n",
            "Requirement already satisfied: sqlparse<1,>=0.4.0 in /usr/local/lib/python3.11/dist-packages (from mlflow-skinny==2.22.0->mlflow>=2.0.0->lazypredict) (0.5.3)\n",
            "Requirement already satisfied: typing-extensions<5,>=4.0.0 in /usr/local/lib/python3.11/dist-packages (from mlflow-skinny==2.22.0->mlflow>=2.0.0->lazypredict) (4.13.2)\n",
            "Requirement already satisfied: uvicorn<1 in /usr/local/lib/python3.11/dist-packages (from mlflow-skinny==2.22.0->mlflow>=2.0.0->lazypredict) (0.34.2)\n",
            "Requirement already satisfied: python-dateutil>=2.8.2 in /usr/local/lib/python3.11/dist-packages (from pandas->lazypredict) (2.9.0.post0)\n",
            "Requirement already satisfied: pytz>=2020.1 in /usr/local/lib/python3.11/dist-packages (from pandas->lazypredict) (2025.2)\n",
            "Requirement already satisfied: tzdata>=2022.7 in /usr/local/lib/python3.11/dist-packages (from pandas->lazypredict) (2025.2)\n",
            "Requirement already satisfied: threadpoolctl>=3.1.0 in /usr/local/lib/python3.11/dist-packages (from scikit-learn->lazypredict) (3.6.0)\n",
            "Requirement already satisfied: nvidia-nccl-cu12 in /usr/local/lib/python3.11/dist-packages (from xgboost->lazypredict) (2.21.5)\n",
            "Requirement already satisfied: Mako in /usr/lib/python3/dist-packages (from alembic!=1.10.0,<2->mlflow>=2.0.0->lazypredict) (1.1.3)\n",
            "Requirement already satisfied: urllib3>=1.26.0 in /usr/local/lib/python3.11/dist-packages (from docker<8,>=4.0.0->mlflow>=2.0.0->lazypredict) (2.4.0)\n",
            "Requirement already satisfied: Werkzeug>=3.1 in /usr/local/lib/python3.11/dist-packages (from Flask<4->mlflow>=2.0.0->lazypredict) (3.1.3)\n",
            "Requirement already satisfied: itsdangerous>=2.2 in /usr/local/lib/python3.11/dist-packages (from Flask<4->mlflow>=2.0.0->lazypredict) (2.2.0)\n",
            "Requirement already satisfied: blinker>=1.9 in /usr/local/lib/python3.11/dist-packages (from Flask<4->mlflow>=2.0.0->lazypredict) (1.9.0)\n",
            "Requirement already satisfied: graphql-core<3.3,>=3.1 in /usr/local/lib/python3.11/dist-packages (from graphene<4->mlflow>=2.0.0->lazypredict) (3.2.6)\n",
            "Requirement already satisfied: graphql-relay<3.3,>=3.1 in /usr/local/lib/python3.11/dist-packages (from graphene<4->mlflow>=2.0.0->lazypredict) (3.2.0)\n",
            "Requirement already satisfied: MarkupSafe>=2.0 in /usr/local/lib/python3.11/dist-packages (from Jinja2<4,>=2.11->mlflow>=2.0.0->lazypredict) (3.0.2)\n",
            "Requirement already satisfied: contourpy>=1.0.1 in /usr/local/lib/python3.11/dist-packages (from matplotlib<4->mlflow>=2.0.0->lazypredict) (1.3.2)\n",
            "Requirement already satisfied: cycler>=0.10 in /usr/local/lib/python3.11/dist-packages (from matplotlib<4->mlflow>=2.0.0->lazypredict) (0.12.1)\n",
            "Requirement already satisfied: fonttools>=4.22.0 in /usr/local/lib/python3.11/dist-packages (from matplotlib<4->mlflow>=2.0.0->lazypredict) (4.57.0)\n",
            "Requirement already satisfied: kiwisolver>=1.3.1 in /usr/local/lib/python3.11/dist-packages (from matplotlib<4->mlflow>=2.0.0->lazypredict) (1.4.8)\n",
            "Requirement already satisfied: pillow>=8 in /usr/local/lib/python3.11/dist-packages (from matplotlib<4->mlflow>=2.0.0->lazypredict) (11.2.1)\n",
            "Requirement already satisfied: pyparsing>=2.3.1 in /usr/local/lib/python3.11/dist-packages (from matplotlib<4->mlflow>=2.0.0->lazypredict) (3.2.3)\n",
            "Requirement already satisfied: six>=1.5 in /usr/local/lib/python3.11/dist-packages (from python-dateutil>=2.8.2->pandas->lazypredict) (1.17.0)\n",
            "Requirement already satisfied: greenlet>=1 in /usr/local/lib/python3.11/dist-packages (from sqlalchemy<3,>=1.4.0->mlflow>=2.0.0->lazypredict) (3.2.1)\n",
            "Requirement already satisfied: google-auth~=2.0 in /usr/local/lib/python3.11/dist-packages (from databricks-sdk<1,>=0.20.0->mlflow-skinny==2.22.0->mlflow>=2.0.0->lazypredict) (2.38.0)\n",
            "Requirement already satisfied: starlette<0.47.0,>=0.40.0 in /usr/local/lib/python3.11/dist-packages (from fastapi<1->mlflow-skinny==2.22.0->mlflow>=2.0.0->lazypredict) (0.46.2)\n",
            "Requirement already satisfied: gitdb<5,>=4.0.1 in /usr/local/lib/python3.11/dist-packages (from gitpython<4,>=3.1.9->mlflow-skinny==2.22.0->mlflow>=2.0.0->lazypredict) (4.0.12)\n",
            "Requirement already satisfied: zipp>=3.20 in /usr/local/lib/python3.11/dist-packages (from importlib_metadata!=4.7.0,<9,>=3.7.0->mlflow-skinny==2.22.0->mlflow>=2.0.0->lazypredict) (3.21.0)\n",
            "Requirement already satisfied: deprecated>=1.2.6 in /usr/local/lib/python3.11/dist-packages (from opentelemetry-api<3,>=1.9.0->mlflow-skinny==2.22.0->mlflow>=2.0.0->lazypredict) (1.2.18)\n",
            "Requirement already satisfied: setuptools>=16.0 in /usr/local/lib/python3.11/dist-packages (from opentelemetry-api<3,>=1.9.0->mlflow-skinny==2.22.0->mlflow>=2.0.0->lazypredict) (75.2.0)\n",
            "Requirement already satisfied: opentelemetry-semantic-conventions==0.37b0 in /usr/local/lib/python3.11/dist-packages (from opentelemetry-sdk<3,>=1.9.0->mlflow-skinny==2.22.0->mlflow>=2.0.0->lazypredict) (0.37b0)\n",
            "Requirement already satisfied: annotated-types>=0.6.0 in /usr/local/lib/python3.11/dist-packages (from pydantic<3,>=1.10.8->mlflow-skinny==2.22.0->mlflow>=2.0.0->lazypredict) (0.7.0)\n",
            "Requirement already satisfied: pydantic-core==2.33.2 in /usr/local/lib/python3.11/dist-packages (from pydantic<3,>=1.10.8->mlflow-skinny==2.22.0->mlflow>=2.0.0->lazypredict) (2.33.2)\n",
            "Requirement already satisfied: typing-inspection>=0.4.0 in /usr/local/lib/python3.11/dist-packages (from pydantic<3,>=1.10.8->mlflow-skinny==2.22.0->mlflow>=2.0.0->lazypredict) (0.4.0)\n",
            "Requirement already satisfied: charset-normalizer<4,>=2 in /usr/local/lib/python3.11/dist-packages (from requests<3,>=2.17.3->mlflow-skinny==2.22.0->mlflow>=2.0.0->lazypredict) (3.4.1)\n",
            "Requirement already satisfied: idna<4,>=2.5 in /usr/local/lib/python3.11/dist-packages (from requests<3,>=2.17.3->mlflow-skinny==2.22.0->mlflow>=2.0.0->lazypredict) (3.10)\n",
            "Requirement already satisfied: certifi>=2017.4.17 in /usr/local/lib/python3.11/dist-packages (from requests<3,>=2.17.3->mlflow-skinny==2.22.0->mlflow>=2.0.0->lazypredict) (2025.4.26)\n",
            "Requirement already satisfied: h11>=0.8 in /usr/local/lib/python3.11/dist-packages (from uvicorn<1->mlflow-skinny==2.22.0->mlflow>=2.0.0->lazypredict) (0.16.0)\n",
            "Requirement already satisfied: wrapt<2,>=1.10 in /usr/local/lib/python3.11/dist-packages (from deprecated>=1.2.6->opentelemetry-api<3,>=1.9.0->mlflow-skinny==2.22.0->mlflow>=2.0.0->lazypredict) (1.17.2)\n",
            "Requirement already satisfied: smmap<6,>=3.0.1 in /usr/local/lib/python3.11/dist-packages (from gitdb<5,>=4.0.1->gitpython<4,>=3.1.9->mlflow-skinny==2.22.0->mlflow>=2.0.0->lazypredict) (5.0.2)\n",
            "Requirement already satisfied: pyasn1-modules>=0.2.1 in /usr/local/lib/python3.11/dist-packages (from google-auth~=2.0->databricks-sdk<1,>=0.20.0->mlflow-skinny==2.22.0->mlflow>=2.0.0->lazypredict) (0.4.2)\n",
            "Requirement already satisfied: rsa<5,>=3.1.4 in /usr/local/lib/python3.11/dist-packages (from google-auth~=2.0->databricks-sdk<1,>=0.20.0->mlflow-skinny==2.22.0->mlflow>=2.0.0->lazypredict) (4.9.1)\n",
            "Requirement already satisfied: anyio<5,>=3.6.2 in /usr/local/lib/python3.11/dist-packages (from starlette<0.47.0,>=0.40.0->fastapi<1->mlflow-skinny==2.22.0->mlflow>=2.0.0->lazypredict) (4.9.0)\n",
            "Requirement already satisfied: sniffio>=1.1 in /usr/local/lib/python3.11/dist-packages (from anyio<5,>=3.6.2->starlette<0.47.0,>=0.40.0->fastapi<1->mlflow-skinny==2.22.0->mlflow>=2.0.0->lazypredict) (1.3.1)\n",
            "Requirement already satisfied: pyasn1<0.7.0,>=0.6.1 in /usr/local/lib/python3.11/dist-packages (from pyasn1-modules>=0.2.1->google-auth~=2.0->databricks-sdk<1,>=0.20.0->mlflow-skinny==2.22.0->mlflow>=2.0.0->lazypredict) (0.6.1)\n"
          ]
        },
        {
          "output_type": "display_data",
          "data": {
            "text/plain": [
              "  0%|          | 0/32 [00:00<?, ?it/s]"
            ],
            "application/vnd.jupyter.widget-view+json": {
              "version_major": 2,
              "version_minor": 0,
              "model_id": "5fbcf70c29ec44ae865bf0016b6491cc"
            }
          },
          "metadata": {}
        },
        {
          "output_type": "stream",
          "name": "stdout",
          "text": [
            "[LightGBM] [Info] Number of positive: 807, number of negative: 807\n",
            "[LightGBM] [Info] Auto-choosing row-wise multi-threading, the overhead of testing was 0.000090 seconds.\n",
            "You can set `force_row_wise=true` to remove the overhead.\n",
            "And if memory is not enough, you can set `force_col_wise=true`.\n",
            "[LightGBM] [Info] Total Bins 2295\n",
            "[LightGBM] [Info] Number of data points in the train set: 1614, number of used features: 9\n",
            "[LightGBM] [Info] [binary:BoostFromScore]: pavg=0.500000 -> initscore=0.000000\n",
            "                               Accuracy  Balanced Accuracy  ROC AUC  F1 Score  \\\n",
            "Model                                                                           \n",
            "SVC                                0.55               0.56     0.56      0.56   \n",
            "AdaBoostClassifier                 0.55               0.56     0.56      0.56   \n",
            "NearestCentroid                    0.56               0.56     0.56      0.57   \n",
            "LabelPropagation                   0.57               0.56     0.56      0.58   \n",
            "ExtraTreeClassifier                0.57               0.56     0.56      0.57   \n",
            "LabelSpreading                     0.57               0.56     0.56      0.58   \n",
            "Perceptron                         0.54               0.55     0.55      0.54   \n",
            "BernoulliNB                        0.55               0.55     0.55      0.56   \n",
            "PassiveAggressiveClassifier        0.54               0.55     0.55      0.55   \n",
            "RandomForestClassifier             0.58               0.55     0.55      0.58   \n",
            "ExtraTreesClassifier               0.59               0.55     0.55      0.58   \n",
            "SGDClassifier                      0.56               0.54     0.54      0.56   \n",
            "DecisionTreeClassifier             0.56               0.54     0.54      0.56   \n",
            "GaussianNB                         0.49               0.54     0.54      0.47   \n",
            "NuSVC                              0.56               0.54     0.54      0.56   \n",
            "KNeighborsClassifier               0.54               0.53     0.53      0.55   \n",
            "XGBClassifier                      0.56               0.53     0.53      0.56   \n",
            "LGBMClassifier                     0.56               0.53     0.53      0.56   \n",
            "BaggingClassifier                  0.56               0.52     0.52      0.55   \n",
            "CalibratedClassifierCV             0.51               0.50     0.50      0.51   \n",
            "RidgeClassifierCV                  0.50               0.50     0.50      0.51   \n",
            "LogisticRegression                 0.50               0.50     0.50      0.51   \n",
            "DummyClassifier                    0.62               0.50     0.50      0.47   \n",
            "LinearSVC                          0.50               0.50     0.50      0.51   \n",
            "LinearDiscriminantAnalysis         0.50               0.50     0.50      0.50   \n",
            "RidgeClassifier                    0.50               0.50     0.50      0.50   \n",
            "QuadraticDiscriminantAnalysis      0.54               0.49     0.49      0.53   \n",
            "\n",
            "                               Time Taken  \n",
            "Model                                      \n",
            "SVC                                  0.20  \n",
            "AdaBoostClassifier                   0.31  \n",
            "NearestCentroid                      0.03  \n",
            "LabelPropagation                     0.19  \n",
            "ExtraTreeClassifier                  0.02  \n",
            "LabelSpreading                       0.26  \n",
            "Perceptron                           0.02  \n",
            "BernoulliNB                          0.02  \n",
            "PassiveAggressiveClassifier          0.03  \n",
            "RandomForestClassifier               0.85  \n",
            "ExtraTreesClassifier                 0.34  \n",
            "SGDClassifier                        0.03  \n",
            "DecisionTreeClassifier               0.06  \n",
            "GaussianNB                           0.02  \n",
            "NuSVC                                0.42  \n",
            "KNeighborsClassifier                 0.04  \n",
            "XGBClassifier                        0.18  \n",
            "LGBMClassifier                       0.15  \n",
            "BaggingClassifier                    0.21  \n",
            "CalibratedClassifierCV               0.07  \n",
            "RidgeClassifierCV                    0.02  \n",
            "LogisticRegression                   0.03  \n",
            "DummyClassifier                      0.03  \n",
            "LinearSVC                            0.03  \n",
            "LinearDiscriminantAnalysis           0.02  \n",
            "RidgeClassifier                      0.03  \n",
            "QuadraticDiscriminantAnalysis        0.02  \n"
          ]
        }
      ]
    },
    {
      "cell_type": "markdown",
      "source": [
        "#ExtraTreesClassifier  "
      ],
      "metadata": {
        "id": "kLmh7QqPbcxw"
      }
    },
    {
      "cell_type": "code",
      "source": [
        "from sklearn.ensemble import ExtraTreesClassifier\n",
        "from sklearn.metrics import accuracy_score, classification_report, confusion_matrix\n",
        "\n",
        "\n",
        "# 1. Criar uma instância do classificador ExtraTreesClassifier com parâmetros ajustados:\n",
        "etc = ExtraTreesClassifier(n_estimators=100,  # Número de árvores na floresta\n",
        "                              criterion='gini',  # Critério para avaliar a qualidade de uma divisão\n",
        "                              max_depth=None,  # Profundidade máxima da árvore\n",
        "                              min_samples_split=2,  # Número mínimo de amostras necessárias para dividir um nó interno\n",
        "                              min_samples_leaf=1,  # Número mínimo de amostras necessárias em um nó folha\n",
        "                              min_weight_fraction_leaf=0.0,  # Peso mínimo da fração de amostras em um nó folha\n",
        "                              max_features='sqrt',  # Número de features a serem consideradas ao procurar a melhor divisão\n",
        "                              max_leaf_nodes=None,  # Número máximo de nós folha\n",
        "                              min_impurity_decrease=0.0,  # Diminuição mínima na impureza para que uma divisão seja feita\n",
        "                              bootstrap=False,  # Se amostras de bootstrap devem ser usadas ao construir árvores\n",
        "                              oob_score=False,  # Se a pontuação fora da bolsa deve ser calculada\n",
        "                              n_jobs=None,  # Número de trabalhos a serem executados em paralelo\n",
        "                              random_state=42,  # Semente aleatória para garantir resultados reproduzíveis\n",
        "                              verbose=0,  # Controla a verbosidade do processo de treinamento\n",
        "                              warm_start=False,  # Se o modelo deve ser inicializado com os resultados de um ajuste anterior\n",
        "                              class_weight=None,  # Pesos associados às classes\n",
        "                              ccp_alpha=0.0,  # Parâmetro de complexidade para poda de custo-complexidade\n",
        "                              max_samples=None)  # Número de amostras a serem desenhadas de X para treinar cada árvore base\n",
        "\n",
        "\n",
        "# 2. Treinar o modelo com os dados reamostrados (balanceados):\n",
        "etc.fit(X_resampled, y_resampled)\n",
        "\n",
        "# 3. Fazer previsões no conjunto de teste:\n",
        "y_pred_etc = etc.predict(X_test)\n",
        "\n",
        "# 4. Avaliar o modelo:\n",
        "print(\"Acurácia:\", accuracy_score(y_test, y_pred_etc))\n",
        "print(classification_report(y_test, y_pred_etc))\n",
        "print(confusion_matrix(y_test, y_pred_etc))"
      ],
      "metadata": {
        "colab": {
          "base_uri": "https://localhost:8080/"
        },
        "id": "5VcNVkXNbb-j",
        "outputId": "fcc5be90-5abf-4839-d305-6a6d64737251"
      },
      "execution_count": 59,
      "outputs": [
        {
          "output_type": "stream",
          "name": "stdout",
          "text": [
            "Acurácia: 0.5929919137466307\n",
            "              precision    recall  f1-score   support\n",
            "\n",
            "           0       0.65      0.73      0.69       230\n",
            "           1       0.46      0.38      0.41       141\n",
            "\n",
            "    accuracy                           0.59       371\n",
            "   macro avg       0.56      0.55      0.55       371\n",
            "weighted avg       0.58      0.59      0.58       371\n",
            "\n",
            "[[167  63]\n",
            " [ 88  53]]\n"
          ]
        }
      ]
    },
    {
      "cell_type": "markdown",
      "source": [
        "#Matriz de confusão"
      ],
      "metadata": {
        "id": "DS8Sm1iKik34"
      }
    },
    {
      "cell_type": "code",
      "source": [
        "import matplotlib.pyplot as plt\n",
        "import seaborn as sns\n",
        "from sklearn.metrics import confusion_matrix\n",
        "\n",
        "# Calculate the confusion matrix\n",
        "cm = confusion_matrix(y_test, y_pred_etc)\n",
        "\n",
        "# Create a heatmap for the confusion matrix with larger font sizes\n",
        "plt.figure(figsize=(8, 6))  # Adjust figure size as needed\n",
        "sns.heatmap(cm, annot=True, fmt=\"d\", cmap=\"Blues\", annot_kws={\"size\": 16}) # Increased font size\n",
        "plt.title(\"Confusion Matrix\", fontsize=18)  # Increased title font size\n",
        "plt.xlabel(\"Predicted Labels\", fontsize=14)  # Increased x-axis label font size\n",
        "plt.ylabel(\"True Labels\", fontsize=14)  # Increased y-axis label font size\n",
        "plt.xticks(fontsize=12) # Increased xticks font size\n",
        "plt.yticks(fontsize=12) # Increased yticks font size\n",
        "plt.tight_layout()\n",
        "\n",
        "\n",
        "# Export the plot to your Google Drive\n",
        "plt.savefig('/content/drive/MyDrive/confusion_matrix.jpg', dpi=300) # Adjust the file path and DPI as needed\n",
        "plt.show()\n"
      ],
      "metadata": {
        "colab": {
          "base_uri": "https://localhost:8080/",
          "height": 582
        },
        "id": "e3ZzLTf_klWF",
        "outputId": "7b3d8d1a-0985-4fdb-a4b8-7ff97bbacb87"
      },
      "execution_count": 65,
      "outputs": [
        {
          "output_type": "display_data",
          "data": {
            "text/plain": [
              "<Figure size 800x600 with 2 Axes>"
            ],
            "image/png": "[encoded data removed]"
          },
          "metadata": {}
        }
      ]
    }
  ]
}